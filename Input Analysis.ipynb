{
 "cells": [
  {
   "cell_type": "code",
   "execution_count": 1,
   "metadata": {},
   "outputs": [],
   "source": [
    "%matplotlib inline \n",
    "import pandas as pd\n",
    "import matplotlib.pyplot as plt\n",
    "import numpy as np\n",
    "import scipy.stats as scs\n",
    "import scipy"
   ]
  },
  {
   "cell_type": "code",
   "execution_count": 99,
   "metadata": {},
   "outputs": [],
   "source": [
    "arrivals_file = \"arrivals.csv\"\n",
    "arrivals = pd.read_csv(arrivals_file)\n",
    "\n",
    "calldurations_file = \"calldurations.csv\"\n",
    "calldurations = pd.read_csv(calldurations_file)\n",
    "\n",
    "timespent_file = \"timespent.csv\"\n",
    "timespent = pd.read_csv(timespent_file)\n",
    "\n",
    "speeds_file = \"speeds.csv\"\n",
    "speeds = pd.read_csv(speeds_file)"
   ]
  },
  {
   "cell_type": "code",
   "execution_count": 3,
   "metadata": {},
   "outputs": [
    {
     "name": "stdout",
     "output_type": "stream",
     "text": [
      "Sample size of speeds is 10000\n"
     ]
    }
   ],
   "source": [
    "speeds_sample_size = speeds.shape[0]\n",
    "print (\"Sample size of speeds is {:d}\".format(speeds_sample_size))"
   ]
  },
  {
   "cell_type": "code",
   "execution_count": 4,
   "metadata": {},
   "outputs": [
    {
     "name": "stdout",
     "output_type": "stream",
     "text": [
      "Number of bins should be 100.00\n"
     ]
    }
   ],
   "source": [
    "n_bins = np.sqrt(speeds_sample_size)\n",
    "print (\"Number of bins should be {:.2f}\".format(n_bins))"
   ]
  },
  {
   "cell_type": "code",
   "execution_count": 15,
   "metadata": {},
   "outputs": [
    {
     "name": "stderr",
     "output_type": "stream",
     "text": [
      "/Users/peiruli/opt/anaconda3/lib/python3.7/site-packages/ipykernel_launcher.py:1: FutureWarning: Method .as_matrix will be removed in a future version. Use .values instead.\n",
      "  \"\"\"Entry point for launching an IPython kernel.\n"
     ]
    },
    {
     "data": {
      "text/plain": [
       "array([109.737])"
      ]
     },
     "execution_count": 15,
     "metadata": {},
     "output_type": "execute_result"
    }
   ],
   "source": [
    "max(speeds.as_matrix())"
   ]
  },
  {
   "cell_type": "code",
   "execution_count": 20,
   "metadata": {},
   "outputs": [
    {
     "name": "stderr",
     "output_type": "stream",
     "text": [
      "/Users/peiruli/opt/anaconda3/lib/python3.7/site-packages/ipykernel_launcher.py:2: FutureWarning: Method .as_matrix will be removed in a future version. Use .values instead.\n",
      "  \n"
     ]
    },
    {
     "data": {
      "image/png": "[encoded data removed]",
      "text/plain": [
       "<Figure size 432x288 with 1 Axes>"
      ]
     },
     "metadata": {
      "needs_background": "light"
     },
     "output_type": "display_data"
    }
   ],
   "source": [
    "n_bins = 100\n",
    "n, bins, patches = plt.hist(speeds.as_matrix(), n_bins, rwidth=0.8, label='Visitor Speeds', color='green')\n",
    "x = range(70,110)\n",
    "y = []\n",
    "for i in range(70,90):\n",
    "    y.append(10*i-10*70)\n",
    "for i in range(91,111):\n",
    "    y.append(10*111-10*i)\n",
    "plt.plot(x,y,'red', label='Triangular Distribution')\n",
    "plt.xlabel('Visitor speed (km/hr)')\n",
    "plt.ylabel('Frequency')\n",
    "plt.title('Visitor speed distribution')\n",
    "plt.legend()\n",
    "plt.show()"
   ]
  },
  {
   "cell_type": "code",
   "execution_count": 130,
   "metadata": {},
   "outputs": [],
   "source": [
    "bins = [0.0] * (n_bins+1)\n",
    "bins[int(n_bins/2)] = 90\n",
    "for i in range(0,int(n_bins/2)):\n",
    "    bins[i] = np.sqrt(2*i/n_bins)*20 + 70\n",
    "    bins[n_bins - i] = (2 - np.sqrt(2*i/n_bins))*20 + 70"
   ]
  },
  {
   "cell_type": "code",
   "execution_count": 131,
   "metadata": {},
   "outputs": [
    {
     "name": "stderr",
     "output_type": "stream",
     "text": [
      "/Users/peiruli/opt/anaconda3/lib/python3.7/site-packages/ipykernel_launcher.py:1: FutureWarning: Method .as_matrix will be removed in a future version. Use .values instead.\n",
      "  \"\"\"Entry point for launching an IPython kernel.\n"
     ]
    }
   ],
   "source": [
    "n1, bins1 = np.histogram(speeds.as_matrix(), bins=bins)"
   ]
  },
  {
   "cell_type": "code",
   "execution_count": 132,
   "metadata": {},
   "outputs": [
    {
     "name": "stdout",
     "output_type": "stream",
     "text": [
      "P-value of Chi-Square Goodness of Fit Test is 0.13\n"
     ]
    }
   ],
   "source": [
    "chisquare_on_speeds , p_value = scs.chisquare(n1)\n",
    "print (\"P-value of Chi-Square Goodness of Fit Test is {:.2f}\".format(p_value))"
   ]
  },
  {
   "cell_type": "code",
   "execution_count": null,
   "metadata": {},
   "outputs": [],
   "source": []
  },
  {
   "cell_type": "code",
   "execution_count": 57,
   "metadata": {},
   "outputs": [
    {
     "name": "stdout",
     "output_type": "stream",
     "text": [
      "Sample size of speeds is 10000\n"
     ]
    }
   ],
   "source": [
    "timespent_sample_size = timespent.shape[0]\n",
    "print (\"Sample size of speeds is {:d}\".format(timespent_sample_size))"
   ]
  },
  {
   "cell_type": "code",
   "execution_count": 58,
   "metadata": {},
   "outputs": [
    {
     "name": "stdout",
     "output_type": "stream",
     "text": [
      "Number of bins should be 100.00\n"
     ]
    }
   ],
   "source": [
    "n_bins = np.sqrt(timespent_sample_size)\n",
    "print (\"Number of bins should be {:.2f}\".format(n_bins))"
   ]
  },
  {
   "cell_type": "code",
   "execution_count": 106,
   "metadata": {},
   "outputs": [
    {
     "name": "stderr",
     "output_type": "stream",
     "text": [
      "/Users/peiruli/opt/anaconda3/lib/python3.7/site-packages/ipykernel_launcher.py:1: FutureWarning: Method .as_matrix will be removed in a future version. Use .values instead.\n",
      "  \"\"\"Entry point for launching an IPython kernel.\n"
     ]
    },
    {
     "data": {
      "text/plain": [
       "array([1014.16])"
      ]
     },
     "execution_count": 106,
     "metadata": {},
     "output_type": "execute_result"
    }
   ],
   "source": [
    "max(calldurations.as_matrix())"
   ]
  },
  {
   "cell_type": "code",
   "execution_count": 116,
   "metadata": {},
   "outputs": [
    {
     "name": "stderr",
     "output_type": "stream",
     "text": [
      "/Users/peiruli/opt/anaconda3/lib/python3.7/site-packages/ipykernel_launcher.py:1: FutureWarning: Method .as_matrix will be removed in a future version. Use .values instead.\n",
      "  \"\"\"Entry point for launching an IPython kernel.\n"
     ]
    },
    {
     "data": {
      "text/plain": [
       "0.008396187776594857"
      ]
     },
     "execution_count": 116,
     "metadata": {},
     "output_type": "execute_result"
    }
   ],
   "source": [
    "call_durations = calldurations.as_matrix()\n",
    "call_durations_data = np.array([0.0]*len(call_durations))\n",
    "call_durations_data[0] = call_durations[0]\n",
    "\n",
    "mean_call_durations = call_durations.mean()\n",
    "lambda_exp = 1/mean_call_durations\n",
    "lambda_exp"
   ]
  },
  {
   "cell_type": "code",
   "execution_count": 133,
   "metadata": {},
   "outputs": [
    {
     "name": "stderr",
     "output_type": "stream",
     "text": [
      "/Users/peiruli/opt/anaconda3/lib/python3.7/site-packages/ipykernel_launcher.py:1: FutureWarning: Method .as_matrix will be removed in a future version. Use .values instead.\n",
      "  \"\"\"Entry point for launching an IPython kernel.\n",
      "/Users/peiruli/opt/anaconda3/lib/python3.7/site-packages/ipykernel_launcher.py:14: FutureWarning: Method .as_matrix will be removed in a future version. Use .values instead.\n",
      "  \n",
      "/Users/peiruli/opt/anaconda3/lib/python3.7/site-packages/ipykernel_launcher.py:14: MatplotlibDeprecationWarning: \n",
      "The 'normed' kwarg was deprecated in Matplotlib 2.1 and will be removed in 3.1. Use 'density' instead.\n",
      "  \n"
     ]
    },
    {
     "data": {
      "image/png": "[encoded data removed]",
      "text/plain": [
       "<Figure size 432x288 with 1 Axes>"
      ]
     },
     "metadata": {
      "needs_background": "light"
     },
     "output_type": "display_data"
    }
   ],
   "source": [
    "call_durations = calldurations.as_matrix()\n",
    "call_durations_data = np.array([0.0]*len(call_durations))\n",
    "call_durations_data[0] = call_durations[0]\n",
    "\n",
    "mean_call_durations = call_durations.mean()\n",
    "lambda_exp = 1/mean_call_durations\n",
    "\n",
    "x = range(0,1014)\n",
    "y = []\n",
    "for i in x:\n",
    "    y.append(lambda_exp*np.exp(-lambda_exp*i))\n",
    "    \n",
    "    \n",
    "n, bins, patches = plt.hist(calldurations.as_matrix(), n_bins, rwidth=0.7, normed=True, label = 'Call Duration', color='green')\n",
    "plt.plot(x,y,'red', label='Exponential Distribution')\n",
    "plt.xlabel('Call Duration')\n",
    "plt.ylabel('Frequency')\n",
    "plt.title('Call Duration Distribution')\n",
    "plt.legend()\n",
    "plt.show()"
   ]
  },
  {
   "cell_type": "code",
   "execution_count": 124,
   "metadata": {},
   "outputs": [],
   "source": [
    "bins = [0.0] * (n_bins+1)\n",
    "bins[0] = 0\n",
    "bins[-1] = 1014\n",
    "\n",
    "for i in range(1,n_bins):\n",
    "    bins[i] = (-mean_call_durations)*np.log(1-(i/n_bins))\n",
    "\n",
    "\n",
    "n2, bins2 = np.histogram(call_durations, bins=bins)"
   ]
  },
  {
   "cell_type": "code",
   "execution_count": 127,
   "metadata": {},
   "outputs": [
    {
     "name": "stdout",
     "output_type": "stream",
     "text": [
      "P-value of Chi-Square Goodness of Fit Test is 0.19\n"
     ]
    }
   ],
   "source": [
    "chisquare_on_arrivals , p_value = scs.chisquare(n2)\n",
    "print (\"P-value of Chi-Square Goodness of Fit Test is {:.2f}\".format(p_value))"
   ]
  },
  {
   "cell_type": "code",
   "execution_count": null,
   "metadata": {},
   "outputs": [],
   "source": []
  },
  {
   "cell_type": "code",
   "execution_count": 139,
   "metadata": {},
   "outputs": [
    {
     "name": "stderr",
     "output_type": "stream",
     "text": [
      "/Users/peiruli/opt/anaconda3/lib/python3.7/site-packages/ipykernel_launcher.py:2: FutureWarning: Method .as_matrix will be removed in a future version. Use .values instead.\n",
      "  \n",
      "/Users/peiruli/opt/anaconda3/lib/python3.7/site-packages/ipykernel_launcher.py:19: MatplotlibDeprecationWarning: \n",
      "The 'normed' kwarg was deprecated in Matplotlib 2.1 and will be removed in 3.1. Use 'density' instead.\n"
     ]
    },
    {
     "data": {
      "image/png": "[encoded data removed]",
      "text/plain": [
       "<Figure size 432x288 with 1 Axes>"
      ]
     },
     "metadata": {
      "needs_background": "light"
     },
     "output_type": "display_data"
    }
   ],
   "source": [
    "n_bins = 100\n",
    "arrival_times = arrivals.iloc[:,1].as_matrix()\n",
    "num = len(arrival_times)\n",
    "\n",
    "inter_arrival_times = np.array([0.0]*num)\n",
    "inter_arrival_times[0] = arrival_times[0]\n",
    "\n",
    "for i in range(1,num):\n",
    "    inter_arrival_times[i] = arrival_times[i] - arrival_times[i-1]\n",
    "\n",
    "mean_inter_arrival = inter_arrival_times.mean()\n",
    "lambda_exp = 1/mean_inter_arrival\n",
    "\n",
    "x = range(0,12)\n",
    "y = []\n",
    "for i in x:\n",
    "    y.append(lambda_exp*np.exp(-lambda_exp*i))\n",
    "\n",
    "n, bins, patches = plt.hist(inter_arrival_times,n_bins, rwidth=0.8, normed=True, label='Inter-Arrival Times', color='green')\n",
    "plt.plot(x,y,'red', label='Exponential Distribution')\n",
    "plt.xlabel('Inter-Arrival Times (mins)')\n",
    "plt.ylabel('Frequency')\n",
    "plt.title('Inter-Arrival Times Distribution')\n",
    "plt.legend()\n",
    "plt.show()"
   ]
  },
  {
   "cell_type": "code",
   "execution_count": 142,
   "metadata": {},
   "outputs": [],
   "source": [
    "bins = [0.0] * (n_bins+1)\n",
    "bins[0] = 0\n",
    "bins[-1] = 12\n",
    "\n",
    "for i in range(1,n_bins):\n",
    "    bins[i] = (-mean_inter_arrival)*np.log(1-(i/n_bins))\n",
    "\n",
    "\n",
    "n2, bins2 = np.histogram(inter_arrival_times, bins=bins)"
   ]
  },
  {
   "cell_type": "code",
   "execution_count": 144,
   "metadata": {},
   "outputs": [
    {
     "name": "stdout",
     "output_type": "stream",
     "text": [
      "P-value of Chi-Square Goodness of Fit Test is 0.00000\n"
     ]
    },
    {
     "data": {
      "text/plain": [
       "7.522171767090726e-38"
      ]
     },
     "execution_count": 144,
     "metadata": {},
     "output_type": "execute_result"
    }
   ],
   "source": [
    "chisquare_on_arrivals , p_value = scs.chisquare(n2)\n",
    "print (\"P-value of Chi-Square Goodness of Fit Test is {:.5f}\".format(p_value))\n",
    "p_value"
   ]
  },
  {
   "cell_type": "code",
   "execution_count": null,
   "metadata": {},
   "outputs": [],
   "source": []
  }
 ],
 "metadata": {
  "kernelspec": {
   "display_name": "Python 3",
   "language": "python",
   "name": "python3"
  },
  "language_info": {
   "codemirror_mode": {
    "name": "ipython",
    "version": 3
   },
   "file_extension": ".py",
   "mimetype": "text/x-python",
   "name": "python",
   "nbconvert_exporter": "python",
   "pygments_lexer": "ipython3",
   "version": "3.7.4"
  }
 },
 "nbformat": 4,
 "nbformat_minor": 2
}
